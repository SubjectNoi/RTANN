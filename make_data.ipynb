{
 "cells": [
  {
   "cell_type": "code",
   "execution_count": null,
   "metadata": {},
   "outputs": [],
   "source": [
    "import numpy as np\n",
    "# import faiss\n",
    "import matplotlib.pyplot as plt\n",
    "from sklearn.cluster import KMeans"
   ]
  },
  {
   "cell_type": "code",
   "execution_count": null,
   "metadata": {},
   "outputs": [],
   "source": [
    "def ivecs_read(fname):\n",
    "    a = np.fromfile(fname, dtype='int32')\n",
    "    d = a[0]\n",
    "    return a.reshape(-1, d + 1)[:, 1:].copy()"
   ]
  },
  {
   "cell_type": "code",
   "execution_count": null,
   "metadata": {},
   "outputs": [],
   "source": [
    "def fvecs_read(fname):\n",
    "    return ivecs_read(fname).view('float32')"
   ]
  },
  {
   "cell_type": "code",
   "execution_count": null,
   "metadata": {},
   "outputs": [],
   "source": [
    "xt = fvecs_read(\"/home/wtni/RTANN/python test/sift/sift_learn.fvecs\")\n",
    "xb = fvecs_read(\"/home/wtni/RTANN/python test/sift/sift_base.fvecs\")\n",
    "xq = fvecs_read(\"/home/wtni/RTANN/python test/sift/sift_query.fvecs\")\n",
    "gt = ivecs_read(\"/home/wtni/RTANN/python test/sift/sift_groundtruth.ivecs\")"
   ]
  },
  {
   "cell_type": "code",
   "execution_count": null,
   "metadata": {},
   "outputs": [],
   "source": [
    "N = 1000000\n",
    "nlists = 100\n",
    "kmeans = KMeans(n_clusters=nlists, init='k-means++').fit(xb)\n",
    "cluster_centroids = kmeans.cluster_centers_\n",
    "labels = kmeans.labels_"
   ]
  },
  {
   "cell_type": "code",
   "execution_count": null,
   "metadata": {},
   "outputs": [],
   "source": [
    "# cluster centroids and labels, manually split this file into two\n",
    "with open ('./data/SIFT1M/cluster_centroids', 'w') as f:\n",
    "    for c in cluster_centroids:\n",
    "        for _c in c:\n",
    "            f.write(str (_c) + ' ')\n",
    "        f.write('\\n')"
   ]
  },
  {
   "cell_type": "code",
   "execution_count": null,
   "metadata": {},
   "outputs": [],
   "source": [
    "with open ('./data/SIFT1M/search_points_labels', 'w') as f:\n",
    "    for l in labels:\n",
    "        f.write(str (l) + ' ')\n",
    "    f.write ('\\n')"
   ]
  },
  {
   "cell_type": "code",
   "execution_count": null,
   "metadata": {},
   "outputs": [],
   "source": [
    "# search_points\n",
    "with open ('./data/SIFT1M/search_points', 'w') as f:\n",
    "    for x in xb:\n",
    "        for _x in x:\n",
    "            f.write(str (_x) + ' ')\n",
    "        f.write ('\\n')"
   ]
  },
  {
   "cell_type": "code",
   "execution_count": null,
   "metadata": {},
   "outputs": [],
   "source": [
    "# queries\n",
    "with open ('./data/SIFT1M/queries', 'w') as f:\n",
    "    for x in xq:\n",
    "        for _x in x:\n",
    "            f.write(str (_x) + ' ')\n",
    "        f.write ('\\n')"
   ]
  },
  {
   "cell_type": "code",
   "execution_count": null,
   "metadata": {},
   "outputs": [],
   "source": [
    "# ground truth\n",
    "# for x in gt:\n",
    "#     for _x in x:\n",
    "#         print(_x, end=' ')\n",
    "#     print()"
   ]
  }
 ],
 "metadata": {
  "language_info": {
   "name": "python"
  },
  "orig_nbformat": 4
 },
 "nbformat": 4,
 "nbformat_minor": 2
}
